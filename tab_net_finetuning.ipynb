{
  "nbformat": 4,
  "nbformat_minor": 0,
  "metadata": {
    "colab": {
      "name": "tab_net_finetuning.ipynb",
      "provenance": [],
      "toc_visible": true,
      "authorship_tag": "ABX9TyNZZPkmJT2A9x3VNsSOSYOR",
      "include_colab_link": true
    },
    "kernelspec": {
      "name": "python3",
      "display_name": "Python 3"
    },
    "accelerator": "GPU"
  },
  "cells": [
    {
      "cell_type": "markdown",
      "metadata": {
        "id": "view-in-github",
        "colab_type": "text"
      },
      "source": [
        "<a href=\"https://colab.research.google.com/github/br-eina/mmdetection_object_detection_demo/blob/master/tab_net_finetuning.ipynb\" target=\"_parent\"><img src=\"https://colab.research.google.com/assets/colab-badge.svg\" alt=\"Open In Colab\"/></a>"
      ]
    },
    {
      "cell_type": "code",
      "metadata": {
        "id": "Nv__3eiJjXbu",
        "colab_type": "code",
        "colab": {}
      },
      "source": [
        "# You can add more model configs like below.\n",
        "MODELS_CONFIG = {\n",
        "    'cascade_tab_net': {\n",
        "        'config_file': 'configs/faster_rcnn_r50_fpn_1x.py'\n",
        "    }\n",
        "}"
      ],
      "execution_count": 3,
      "outputs": []
    },
    {
      "cell_type": "markdown",
      "metadata": {
        "id": "jXoa24lGHB0K",
        "colab_type": "text"
      },
      "source": [
        "## Settings"
      ]
    },
    {
      "cell_type": "code",
      "metadata": {
        "id": "remReeGY7_-f",
        "colab_type": "code",
        "colab": {}
      },
      "source": [
        "# TODO: change URL to your fork of my repository if necessary.\n",
        "git_repo_url = 'https://github.com/br-eina/mmdetection_object_detection_demo'\n",
        "\n",
        "# Pick the model you want to use\n",
        "# Select a model in `MODELS_CONFIG`.\n",
        "selected_model = 'cascade_tab_net'  # 'cascade_rcnn_r50_fpn_1x'\n",
        "\n",
        "# Total training epochs.\n",
        "total_epochs = 8\n",
        "\n",
        "# Name of the config file.\n",
        "config_file = MODELS_CONFIG[selected_model]['config_file']"
      ],
      "execution_count": 4,
      "outputs": []
    },
    {
      "cell_type": "markdown",
      "metadata": {
        "id": "ZNljGexgHLnP",
        "colab_type": "text"
      },
      "source": [
        "## Install Open MMLab Detection Toolbox\n",
        "Restart the runtime if there's an issue while importing mmdet"
      ]
    },
    {
      "cell_type": "code",
      "metadata": {
        "id": "duZcT_ObHSPE",
        "colab_type": "code",
        "colab": {
          "base_uri": "https://localhost:8080/",
          "height": 35
        },
        "outputId": "6d420cea-9e21-45d8-9017-8f431b7a969e"
      },
      "source": [
        "import os\n",
        "from os.path import exists, join, basename, splitext\n",
        "\n",
        "%cd /content"
      ],
      "execution_count": 5,
      "outputs": [
        {
          "output_type": "stream",
          "text": [
            "/content\n"
          ],
          "name": "stdout"
        }
      ]
    },
    {
      "cell_type": "code",
      "metadata": {
        "id": "qkXedZaBHfs_",
        "colab_type": "code",
        "colab": {
          "base_uri": "https://localhost:8080/",
          "height": 35
        },
        "outputId": "b1bb21c9-513b-414f-992f-d2f12e64ac1e"
      },
      "source": [
        "project_name = os.path.abspath(splitext(basename(git_repo_url))[0])\n",
        "project_name"
      ],
      "execution_count": 6,
      "outputs": [
        {
          "output_type": "execute_result",
          "data": {
            "application/vnd.google.colaboratory.intrinsic+json": {
              "type": "string"
            },
            "text/plain": [
              "'/content/mmdetection_object_detection_demo'"
            ]
          },
          "metadata": {
            "tags": []
          },
          "execution_count": 6
        }
      ]
    },
    {
      "cell_type": "code",
      "metadata": {
        "id": "_Nko6jd-Hjgs",
        "colab_type": "code",
        "colab": {
          "base_uri": "https://localhost:8080/",
          "height": 35
        },
        "outputId": "e8d64da0-1729-4b17-cf91-fc068c9c715c"
      },
      "source": [
        "mmdetection_dir = os.path.join(project_name, \"mmdetection\")\n",
        "mmdetection_dir"
      ],
      "execution_count": 7,
      "outputs": [
        {
          "output_type": "execute_result",
          "data": {
            "application/vnd.google.colaboratory.intrinsic+json": {
              "type": "string"
            },
            "text/plain": [
              "'/content/mmdetection_object_detection_demo/mmdetection'"
            ]
          },
          "metadata": {
            "tags": []
          },
          "execution_count": 7
        }
      ]
    },
    {
      "cell_type": "code",
      "metadata": {
        "id": "n_Lef6e5IFqa",
        "colab_type": "code",
        "colab": {
          "base_uri": "https://localhost:8080/",
          "height": 165
        },
        "outputId": "bae285c5-c263-4447-ac09-28db9681e619"
      },
      "source": [
        "if not exists(project_name):\n",
        "    # clone \"depth 1\" will only get the latest copy of the relevant files.\n",
        "    !git clone -q --recurse-submodules --depth 1 $git_repo_url\n",
        "    print(\"Update mmdetection repo\")\n",
        "    !cd {mmdetection_dir} && git checkout master && git pull\n",
        "    # dependencies\n",
        "    !pip install -q mmcv==0.4.3 terminaltables\n",
        "    # build\n",
        "    !cd {mmdetection_dir} && python setup.py install\n",
        "    !pip install -r {os.path.join(mmdetection_dir, \"requirements.txt\")}"
      ],
      "execution_count": 8,
      "outputs": [
        {
          "output_type": "stream",
          "text": [
            "Update mmdetection repo\n",
            "/bin/bash: line 0: cd: /content/mmdetection_object_detection_demo/mmdetection: No such file or directory\n",
            "\u001b[K     |████████████████████████████████| 61kB 6.2MB/s \n",
            "\u001b[?25h  Building wheel for mmcv (setup.py) ... \u001b[?25l\u001b[?25hdone\n",
            "  Building wheel for terminaltables (setup.py) ... \u001b[?25l\u001b[?25hdone\n",
            "/bin/bash: line 0: cd: /content/mmdetection_object_detection_demo/mmdetection: No such file or directory\n",
            "\u001b[31mERROR: Could not open requirements file: [Errno 2] No such file or directory: '/content/mmdetection_object_detection_demo/mmdetection/requirements.txt'\u001b[0m\n"
          ],
          "name": "stdout"
        }
      ]
    },
    {
      "cell_type": "code",
      "metadata": {
        "id": "O3ETmuxoOKyo",
        "colab_type": "code",
        "colab": {}
      },
      "source": [
        "import sys\n",
        "sys.path.append(mmdetection_dir)\n",
        "import time\n",
        "import matplotlib\n",
        "import matplotlib.pylab as plt\n",
        "plt.rcParams[\"axes.grid\"] = False"
      ],
      "execution_count": null,
      "outputs": []
    }
  ]
}